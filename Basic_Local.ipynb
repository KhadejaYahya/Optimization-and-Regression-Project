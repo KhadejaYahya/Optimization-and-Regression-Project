{
  "cells": [
    {
      "cell_type": "markdown",
      "metadata": {
        "id": "e0nwHLLB8Z1j"
      },
      "source": [
        "#Optimization and Regression Project\n",
        "### Local Search code"
      ]
    },
    {
      "cell_type": "markdown",
      "metadata": {
        "id": "P__WTpVH9twH"
      },
      "source": [
        "\n",
        "\n",
        "---\n",
        "\n"
      ]
    },
    {
      "cell_type": "markdown",
      "metadata": {
        "id": "AdtbrbvM9iRg"
      },
      "source": [
        "#### import libraries"
      ]
    },
    {
      "cell_type": "code",
      "execution_count": null,
      "metadata": {
        "id": "CHVS2r2mkh2e"
      },
      "outputs": [],
      "source": [
        "#Importing required Liraries\n",
        "import random\n",
        "import numpy as np\n"
      ]
    },
    {
      "cell_type": "markdown",
      "metadata": {
        "id": "S_CZRT3V8g7Y"
      },
      "source": [
        "#### Objective function"
      ]
    },
    {
      "cell_type": "code",
      "execution_count": null,
      "metadata": {
        "id": "M_QwnB7kky94"
      },
      "outputs": [],
      "source": [
        "#A function thaat calculates the objective function.\n",
        "def objectiveFunction(a,b):\n",
        "\n",
        "  solution = 2400*a+ 2500*b\n",
        "  \n",
        "  return solution"
      ]
    },
    {
      "cell_type": "markdown",
      "metadata": {
        "id": "MGLKnau68mFa"
      },
      "source": [
        "#### check constraints function"
      ]
    },
    {
      "cell_type": "code",
      "execution_count": null,
      "metadata": {
        "id": "zkiSNhuAk1va"
      },
      "outputs": [],
      "source": [
        "#This function returns a boolean value , to chack if the values of a and b satisfies the constraints.\n",
        "def check(a,b):\n",
        "\n",
        "  if((5*a + 3*b <= 200) and (2*a + 3*b <= 400) and (a + 2*b <= 100) and (3*a +b<= 400) and (a>=0) and (b>=0)):\n",
        "\n",
        "    return True\n",
        "\n",
        "  else:\n",
        "    \n",
        "    return False\n"
      ]
    },
    {
      "cell_type": "markdown",
      "metadata": {
        "id": "bHJBw65H8qbL"
      },
      "source": [
        "#### Generate First Solution funcation"
      ]
    },
    {
      "cell_type": "code",
      "execution_count": null,
      "metadata": {
        "id": "-szbgK-Gk4dU"
      },
      "outputs": [],
      "source": [
        "#A function that generates initial solutions.\n",
        "def generateFirstSolution():\n",
        "  a = random.randint(0,14)\n",
        "  b = random.randint(0,14)\n",
        "\n",
        "\n",
        "  if(check(a,b)):\n",
        "    return a,b\n",
        "  else:\n",
        "    generateFirstSolution()"
      ]
    },
    {
      "cell_type": "markdown",
      "metadata": {
        "id": "XPxWam3z81jY"
      },
      "source": [
        "#### Generate Neighbors funcation"
      ]
    },
    {
      "cell_type": "code",
      "execution_count": null,
      "metadata": {
        "id": "c_0DXuaLk5TL"
      },
      "outputs": [],
      "source": [
        "#This function generate the neighbors of a and b \n",
        "def generateNeighbors(a,b):\n",
        "\n",
        "  neigbor = []\n",
        "\n",
        "  while len(neigbor) <= 4:\n",
        "    PackageA = random.randint(a+1, a+3)\n",
        "\n",
        "    PackageB = random.randint(b+1, b+3)\n",
        "\n",
        "    if(check(PackageA,PackageB) and ([PackageA,PackageB] not in neigbor)):\n",
        "      \n",
        "      neigbor.append([PackageA,PackageB])\n",
        "      \n",
        "  return(neigbor)"
      ]
    },
    {
      "cell_type": "markdown",
      "metadata": {
        "id": "UiLkBX2D8_l3"
      },
      "source": [
        "#### compare the nighbores funcation"
      ]
    },
    {
      "cell_type": "code",
      "execution_count": null,
      "metadata": {
        "id": "FZndJFxD6yLl"
      },
      "outputs": [],
      "source": [
        "#compare the neighbores and return the max \n",
        "def compare(intial_a, intial_b, intial_objective):\n",
        "    \n",
        "  #define varible\n",
        "  max_i = 0\n",
        "  max_j = 0\n",
        "\n",
        "  #initilize max with the given objective function\n",
        "  max = intial_objective\n",
        "  \n",
        "  Neighbors_array = [] #array of neighor elements of the intial solution\n",
        "\n",
        "  #generate neighbors of initialA and initialB and append in the neighbors array\n",
        "  Neighbors_array.extend(generateNeighbors(intial_a, intial_b))\n",
        "  print(\"The Neighbors: \",Neighbors_array)\n",
        "\n",
        "  #this loop will compare the value of the objective function of the neighbors.\n",
        "  for i in range(len(Neighbors_array)):\n",
        "        \n",
        "    #temp variable is used to the objective function of the neighbor\n",
        "    temp = objectiveFunction(Neighbors_array[i][0], Neighbors_array[i][1])\n",
        "    \n",
        "    #comapre to find the maximum value of each neighbor set\n",
        "    if(temp>max):\n",
        "      max = temp\n",
        "      max_i = Neighbors_array[i][0] \n",
        "      max_j = Neighbors_array[i][1]\n",
        "        \n",
        "  \n",
        "  return max, max_i, max_j"
      ]
    },
    {
      "cell_type": "markdown",
      "metadata": {
        "id": "ppaCHADx9Q_y"
      },
      "source": [
        "#### Main part\n",
        "\n",
        "*   calling the functions\n",
        "*   print the results\n",
        "\n"
      ]
    },
    {
      "cell_type": "code",
      "execution_count": null,
      "metadata": {
        "colab": {
          "base_uri": "https://localhost:8080/"
        },
        "id": "iTpcCXq5lELj",
        "outputId": "db43ab81-b7f6-4df8-9de2-dbeb90f93bc3"
      },
      "outputs": [
        {
          "output_type": "stream",
          "name": "stdout",
          "text": [
            "----RESSULTS----\n",
            "\n",
            "The Initial Solution is ( 4 , 10 ) With Objective Function =   34600 \n",
            "\n",
            "The Neighbors:  [[7, 13], [6, 13], [6, 11], [5, 11], [5, 12]]\n",
            "The maximum objective among these neighbors is ( 49300 ) With the value=  ( 7 , 13 )\n",
            "\n",
            "The Neighbors:  [[5, 12], [6, 11], [6, 13], [5, 11], [7, 11]]\n",
            "The maximum objective among these neighbors is ( 46900 ) With the value=  ( 6 , 13 )\n",
            "\n",
            "The Neighbors:  [[5, 11], [7, 12], [5, 13], [7, 11], [6, 11]]\n",
            "The maximum objective among these neighbors is ( 46800 ) With the value=  ( 7 , 12 )\n",
            "\n",
            "The Neighbors:  [[7, 11], [6, 12], [7, 13], [6, 11], [6, 13]]\n",
            "The maximum objective among these neighbors is ( 49300 ) With the value=  ( 7 , 13 )\n",
            "\n",
            "The Neighbors:  [[6, 12], [7, 11], [6, 13], [7, 12], [5, 12]]\n",
            "The maximum objective among these neighbors is ( 46900 ) With the value=  ( 6 , 13 )\n",
            "\n",
            "\n",
            "----------------\n",
            "\n",
            "Feasible solution set:  [34600, 49300, 46900, 46800, 49300, 46900]\n",
            "\n",
            "The Maximume objective function is:  49300  of the value ( 6 ,  13 )\n"
          ]
        }
      ],
      "source": [
        "#Set of best objective function\n",
        "feasibleSolutions = list()\n",
        "\n",
        "print(\"----RESSULTS----\\n\")\n",
        "    \n",
        "     \n",
        "# #calling required methods \n",
        "\n",
        "#Generate first solution \n",
        "intial_a, intial_b= generateFirstSolution()\n",
        "\n",
        "#calculate objective of the first solution\n",
        "intital_objective = objectiveFunction(intial_a, intial_b)\n",
        "\n",
        "\n",
        "print(\"The Initial Solution is (\",intial_a,\",\",intial_b,\") With Objective Function =  \", intital_objective,\"\\n\")\n",
        "\n",
        "feasibleSolutions.append(intital_objective)\n",
        "\n",
        "for i in range(5):\n",
        "\n",
        "\n",
        "    maximumValue, a, b= compare(intial_a, intial_b, intital_objective)\n",
        "\n",
        "\n",
        "    #add the maximum to the solution set\n",
        "    feasibleSolutions.append(maximumValue)\n",
        "\n",
        "    Neighbor_objective = objectiveFunction(a, b)\n",
        "    print(\"The maximum objective among these neighbors is (\",Neighbor_objective,\") With the value=  (\", a,\",\",b,\")\\n\")\n",
        "\n",
        "\n",
        "\n",
        "\n",
        "#------RESULTS------\n",
        "print(\"\\n----------------\\n\")\n",
        "\n",
        "#Display the feasible solution set\n",
        "print(\"Feasible solution set: \",feasibleSolutions)\n",
        "\n",
        "#Maximum value in the feasible solution\n",
        "max_value = np.max(feasibleSolutions)\n",
        "\n",
        "print(\"\\nThe Maximume objective function is: \" , max_value , \" of the value (\",a,\", \",b,\")\")\n",
        "\n"
      ]
    },
    {
      "cell_type": "markdown",
      "metadata": {
        "id": "g8XJcHXf9vKy"
      },
      "source": [
        "\n",
        "\n",
        "---\n",
        "#### END\n"
      ]
    }
  ],
  "metadata": {
    "colab": {
      "collapsed_sections": [
        "S_CZRT3V8g7Y",
        "MGLKnau68mFa",
        "bHJBw65H8qbL"
      ],
      "provenance": []
    },
    "kernelspec": {
      "display_name": "Python 3",
      "name": "python3"
    },
    "language_info": {
      "name": "python"
    }
  },
  "nbformat": 4,
  "nbformat_minor": 0
}