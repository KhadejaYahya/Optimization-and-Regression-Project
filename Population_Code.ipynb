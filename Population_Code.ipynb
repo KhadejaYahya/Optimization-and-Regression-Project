{
  "nbformat": 4,
  "nbformat_minor": 0,
  "metadata": {
    "colab": {
      "provenance": [],
      "collapsed_sections": [
        "8nYWMsfL9oVo",
        "OgzFcyiWoq_p",
        "N60RF7xHo1yg",
        "73I_nmiAo5Yt",
        "viyZhv4so_cY",
        "t2207zOvpG4J",
        "CXI8Lh_DpQXj",
        "Bbayv2hXqT2R",
        "13_QyBMOq0WC",
        "i7ox6jALzOE_"
      ]
    },
    "kernelspec": {
      "name": "python3",
      "display_name": "Python 3"
    },
    "language_info": {
      "name": "python"
    }
  },
  "cells": [
    {
      "cell_type": "markdown",
      "source": [
        "#Optimization and Regression Project\n",
        "### Population Search code"
      ],
      "metadata": {
        "id": "H-VxNLJeb--f"
      }
    },
    {
      "cell_type": "markdown",
      "source": [
        "\n",
        "\n",
        "---\n"
      ],
      "metadata": {
        "id": "oxpOKOQmzUf2"
      }
    },
    {
      "cell_type": "markdown",
      "source": [
        "#### define the global varibules "
      ],
      "metadata": {
        "id": "OgzFcyiWoq_p"
      }
    },
    {
      "cell_type": "code",
      "source": [
        "# assume an initial values\n",
        "initial_PackageA = [10,1,15,20,3]\n",
        "initial_PackageB = [25,14,2,4,5]\n",
        "\n",
        "population_size = 5\n",
        "\n",
        "#create a map to save the indexes with its objective for the print part\n",
        "index_Library = {}\n"
      ],
      "metadata": {
        "id": "wQnPdX8ed-uR"
      },
      "execution_count": null,
      "outputs": []
    },
    {
      "cell_type": "markdown",
      "source": [
        "#### objective function"
      ],
      "metadata": {
        "id": "N60RF7xHo1yg"
      }
    },
    {
      "cell_type": "code",
      "execution_count": null,
      "metadata": {
        "id": "tueUECD4bvCr"
      },
      "outputs": [],
      "source": [
        "#this function calculates the objective function.\n",
        "def objectiveFunction(a,b):\n",
        "  solution = 2400*a+ 2500*b\n",
        "  return solution"
      ]
    },
    {
      "cell_type": "markdown",
      "source": [
        "#### check constraints function"
      ],
      "metadata": {
        "id": "73I_nmiAo5Yt"
      }
    },
    {
      "cell_type": "code",
      "source": [
        "#This function returns a boolean value , to chack if the values of a and b satisfies the constraints.\n",
        "def check(a,b):\n",
        "\n",
        "  if((5*a + 3*b <= 200) and (2*a + 3*b <= 400) and (a + 2*b <= 100) and (3*a +b<= 400) and (a>=0) and (b>=0)):\n",
        "\n",
        "    return True\n",
        "\n",
        "  else:\n",
        "    \n",
        "    return False\n"
      ],
      "metadata": {
        "id": "B2cnQINvcvwd"
      },
      "execution_count": null,
      "outputs": []
    },
    {
      "cell_type": "markdown",
      "source": [
        "#### generate population function"
      ],
      "metadata": {
        "id": "viyZhv4so_cY"
      }
    },
    {
      "cell_type": "code",
      "source": [
        "#This function generates populations.\n",
        "def generate_population(a, b):\n",
        "\n",
        "#This array will holds the population elements\n",
        "  population = []\n",
        "\n",
        "  #generate solutions without violating the population size.\n",
        "  for i in range(population_size):\n",
        "    if(check (a[i] , b[i])):\n",
        "\n",
        "      populationObjectve = objectiveFunction(a[i], b[i])\n",
        "\n",
        "      #Checks if the objectives are not in the population list.\n",
        "      if(populationObjectve not in population):\n",
        "\n",
        "        #append the value of the objective function to the population array.\n",
        "        population.append(populationObjectve)\n",
        "        index_Library[populationObjectve] = [a[i], b[i]]\n",
        "\n",
        "  \n",
        "\n",
        "  return population  "
      ],
      "metadata": {
        "id": "h8O1Wq3GPxu1"
      },
      "execution_count": null,
      "outputs": []
    },
    {
      "cell_type": "markdown",
      "source": [
        "#### Generate Neighbors Function"
      ],
      "metadata": {
        "id": "t2207zOvpG4J"
      }
    },
    {
      "cell_type": "code",
      "source": [
        "#This method will generate the neighbors of package a and b \n",
        "def generateNeighbors():\n",
        "\n",
        "  neigbor = []\n",
        "  \n",
        "  for i in range (population_size):\n",
        "    \n",
        "    initial_PackageA[i] += 2\n",
        "    initial_PackageB[i] += 2\n",
        "\n",
        "    if(check(initial_PackageA[i],initial_PackageB[i]) and ([initial_PackageA[i],initial_PackageB[i]] not in neigbor)):\n",
        "      neigbor.append([initial_PackageA[i],initial_PackageB[i]])\n",
        "\n",
        "  return neigbor"
      ],
      "metadata": {
        "id": "BEnQpoYvUb8n"
      },
      "execution_count": null,
      "outputs": []
    },
    {
      "cell_type": "markdown",
      "source": [
        "#### Objective for arrays function"
      ],
      "metadata": {
        "id": "CXI8Lh_DpQXj"
      }
    },
    {
      "cell_type": "code",
      "source": [
        "#This method will contain an array that contains the objective function of each package A and B\n",
        "def Objective_for_Array(arr):\n",
        "\n",
        "  objectives = []\n",
        "\n",
        "  for i in range(len(arr)):\n",
        "      objectives.append(objectiveFunction(arr[i][0] , arr[i][1]))\n",
        "      \n",
        "  return objectives"
      ],
      "metadata": {
        "id": "ZFCd0JXkXxGU"
      },
      "execution_count": null,
      "outputs": []
    },
    {
      "cell_type": "markdown",
      "source": [
        "#### select the best function"
      ],
      "metadata": {
        "id": "Bbayv2hXqT2R"
      }
    },
    {
      "cell_type": "code",
      "source": [
        "# select the best objective from the pervious neighbors\n",
        "def selectBest(objectives):\n",
        "  while len(objectives) > population_size:\n",
        "    objectives.remove(min(objectives))\n",
        "  return objectives"
      ],
      "metadata": {
        "id": "YjMi804DhL0A"
      },
      "execution_count": null,
      "outputs": []
    },
    {
      "cell_type": "markdown",
      "source": [
        "#### Main part \n",
        "\n",
        "\n",
        "*   calling the functions \n",
        "*   print the results\n",
        "\n"
      ],
      "metadata": {
        "id": "y_dr7D_UrOWN"
      }
    },
    {
      "cell_type": "code",
      "source": [
        "#Generate the first population \n",
        "first_population = generate_population(initial_PackageA, initial_PackageB)\n",
        "\n",
        "#Generate the first Neighbors \n",
        "first_neighbors = generateNeighbors()\n",
        "\n",
        "#find the neighbors' objective\n",
        "neighbor_objective = Objective_for_Array(first_neighbors)\n",
        "\n",
        "#select the best objectives\n",
        "select_best =selectBest(neighbor_objective + first_population)\n",
        "\n",
        "# puplation temp list use to print the results \n",
        "populations = []\n",
        "populations.extend(first_population)\n",
        "\n",
        "\n",
        "\n",
        "\n",
        "\n",
        "###########################################################################\n",
        "######################## Print Results Section  ###########################\n",
        "###########################################################################\n",
        "\n",
        "\n",
        "print(\"First Population: \", first_population )\n",
        "\n",
        "for x in range(5):\n",
        "      print('\\nLoop Number ', x + 1, ':')\n",
        "            \n",
        "      neighbors= generateNeighbors()\n",
        "      neighbor_objective = Objective_for_Array(neighbors)\n",
        "\n",
        "      # new population\n",
        "      new_population = generate_population(initial_PackageA, initial_PackageB) \n",
        "      print('new population:', new_population,'\\n')\n",
        "\n",
        "\n",
        "      # population before dropping part\n",
        "      options = neighbor_objective + populations\n",
        "\n",
        "      # for i in range(len(new_population)):\n",
        "      #   if new_population[i] not in options:\n",
        "      #     options.insert(0,new_population[i])\n",
        "\n",
        "      options.sort(reverse=True)\n",
        "      print(\"The population before dropping lower values:\\t\", options)\n",
        "\n",
        "\n",
        "      # poplation after dropping part\n",
        "      populations = selectBest(options)\n",
        "      print(\"The population after selecting the maximum objective functions:\",populations)\n",
        "\n",
        "\n",
        "      # Maximume objective part\n",
        "      for i in range(len(populations)):\n",
        "        print(\"The point (\", index_Library[populations[i]][0],\",\", index_Library[populations[i]][1],\")\", \"has an objective function =\",populations[i])\n",
        "      print(\"\\n\") \n"
      ],
      "metadata": {
        "id": "wC91d_56Ut1C",
        "colab": {
          "base_uri": "https://localhost:8080/"
        },
        "outputId": "537ff2dc-5dbb-414f-8139-da22fa0ab284"
      },
      "execution_count": null,
      "outputs": [
        {
          "output_type": "stream",
          "name": "stdout",
          "text": [
            "First Population:  [86500, 37400, 41000, 58000, 19700]\n",
            "\n",
            "Loop Number  1 :\n",
            "new population: [106100, 57000, 60600, 77600, 39300] \n",
            "\n",
            "The population before dropping lower values:\t [106100, 86500, 77600, 60600, 58000, 57000, 41000, 39300, 37400, 19700]\n",
            "The population after selecting the maximum objective functions: [106100, 86500, 77600, 60600, 58000]\n",
            "The point ( 14 , 29 ) has an objective function = 106100\n",
            "The point ( 10 , 25 ) has an objective function = 86500\n",
            "The point ( 24 , 8 ) has an objective function = 77600\n",
            "The point ( 19 , 6 ) has an objective function = 60600\n",
            "The point ( 20 , 4 ) has an objective function = 58000\n",
            "\n",
            "\n",
            "\n",
            "Loop Number  2 :\n",
            "new population: [115900, 66800, 70400, 87400, 49100] \n",
            "\n",
            "The population before dropping lower values:\t [115900, 106100, 87400, 86500, 77600, 70400, 66800, 60600, 58000, 49100]\n",
            "The population after selecting the maximum objective functions: [115900, 106100, 87400, 86500, 77600]\n",
            "The point ( 16 , 31 ) has an objective function = 115900\n",
            "The point ( 14 , 29 ) has an objective function = 106100\n",
            "The point ( 26 , 10 ) has an objective function = 87400\n",
            "The point ( 10 , 25 ) has an objective function = 86500\n",
            "The point ( 24 , 8 ) has an objective function = 77600\n",
            "\n",
            "\n",
            "\n",
            "Loop Number  3 :\n",
            "new population: [125700, 76600, 80200, 97200, 58900] \n",
            "\n",
            "The population before dropping lower values:\t [125700, 115900, 106100, 97200, 87400, 86500, 80200, 77600, 76600, 58900]\n",
            "The population after selecting the maximum objective functions: [125700, 115900, 106100, 97200, 87400]\n",
            "The point ( 18 , 33 ) has an objective function = 125700\n",
            "The point ( 16 , 31 ) has an objective function = 115900\n",
            "The point ( 14 , 29 ) has an objective function = 106100\n",
            "The point ( 28 , 12 ) has an objective function = 97200\n",
            "The point ( 26 , 10 ) has an objective function = 87400\n",
            "\n",
            "\n",
            "\n",
            "Loop Number  4 :\n",
            "new population: [86400, 90000, 107000, 68700] \n",
            "\n",
            "The population before dropping lower values:\t [125700, 115900, 107000, 106100, 97200, 90000, 87400, 86400, 68700]\n",
            "The population after selecting the maximum objective functions: [125700, 115900, 107000, 106100, 97200]\n",
            "The point ( 18 , 33 ) has an objective function = 125700\n",
            "The point ( 16 , 31 ) has an objective function = 115900\n",
            "The point ( 30 , 14 ) has an objective function = 107000\n",
            "The point ( 14 , 29 ) has an objective function = 106100\n",
            "The point ( 28 , 12 ) has an objective function = 97200\n",
            "\n",
            "\n",
            "\n",
            "Loop Number  5 :\n",
            "new population: [96200, 99800, 78500] \n",
            "\n",
            "The population before dropping lower values:\t [125700, 115900, 107000, 106100, 99800, 97200, 96200, 78500]\n",
            "The population after selecting the maximum objective functions: [125700, 115900, 107000, 106100, 99800]\n",
            "The point ( 18 , 33 ) has an objective function = 125700\n",
            "The point ( 16 , 31 ) has an objective function = 115900\n",
            "The point ( 30 , 14 ) has an objective function = 107000\n",
            "The point ( 14 , 29 ) has an objective function = 106100\n",
            "The point ( 27 , 14 ) has an objective function = 99800\n",
            "\n",
            "\n"
          ]
        }
      ]
    },
    {
      "cell_type": "markdown",
      "source": [
        "\n",
        "\n",
        "---\n",
        "\n",
        "\n",
        "### END"
      ],
      "metadata": {
        "id": "i7ox6jALzOE_"
      }
    }
  ]
}